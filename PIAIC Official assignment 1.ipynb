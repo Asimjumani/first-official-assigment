{
 "cells": [
  {
   "cell_type": "markdown",
   "metadata": {},
   "source": [
    "## 1. Calculate Area of a Circle"
   ]
  },
  {
   "cell_type": "markdown",
   "metadata": {},
   "source": [
    "#### Write a Python program which accepts the radius of a circle from the user and compute the area.\n",
    "###### Program Console Sample Output 1:\n",
    "###### Input Radius: 0.5\n",
    "###### Area of Circle with radius 0.5 is 0.7853981634"
   ]
  },
  {
   "cell_type": "code",
   "execution_count": 17,
   "metadata": {},
   "outputs": [
    {
     "name": "stdout",
     "output_type": "stream",
     "text": [
      "Enter the radius of a circle0.5\n",
      "Please wait!!!!\n",
      "Area of Circle with radius  0.5  is  0.78539816339745\n"
     ]
    }
   ],
   "source": [
    "π = 3.1415926535898 #π=Pi press 2+2+7 with pressing alt\n",
    "r = float(input(\"Enter the radius of a circle\"))\n",
    "if r > 0.1:\n",
    "    print(\"Please wait!!!!\")\n",
    "    A = π*r**2\n",
    "    print(\"Area of Circle with radius \",r,\" is \",A)\n",
    "    "
   ]
  },
  {
   "cell_type": "code",
   "execution_count": null,
   "metadata": {},
   "outputs": [],
   "source": []
  },
  {
   "cell_type": "code",
   "execution_count": null,
   "metadata": {},
   "outputs": [],
   "source": []
  },
  {
   "cell_type": "markdown",
   "metadata": {},
   "source": [
    "## 2. Check Number either positive, negative or zero"
   ]
  },
  {
   "cell_type": "markdown",
   "metadata": {},
   "source": [
    "#### Write a Python program to check if a number is positive, negative or zero\n",
    "###### Program Console Sample Output 1:\n",
    "###### Enter Number: -1\n",
    "##### Negative Number Entered\n",
    "###### Program Console Sample Output 2:\n",
    "##### Integer: 3\n",
    "##### Positive Number Entered\n",
    "###### Program Console Sample Output 3:\n",
    "##### Integer: 0\n",
    "###### Zero Entered"
   ]
  },
  {
   "cell_type": "code",
   "execution_count": 21,
   "metadata": {},
   "outputs": [
    {
     "name": "stdout",
     "output_type": "stream",
     "text": [
      "Enter the any number-1\n",
      "Negative Number Entered\n"
     ]
    }
   ],
   "source": [
    "number = int(input('Enter the any number'))\n",
    "if number >= 1:\n",
    "    print ('Positive Number Entered')\n",
    "elif number == 0:\n",
    "    print('Zero Entered')\n",
    "else:\n",
    "    print('Negative Number Entered')"
   ]
  },
  {
   "cell_type": "code",
   "execution_count": 22,
   "metadata": {},
   "outputs": [
    {
     "name": "stdout",
     "output_type": "stream",
     "text": [
      "Enter the any number3\n",
      "Positive Number Entered\n"
     ]
    }
   ],
   "source": [
    "number = int(input('Enter the any number'))\n",
    "if number >= 1:\n",
    "    print ('Positive Number Entered')\n",
    "elif number == 0:\n",
    "    print('Zero Entered')\n",
    "else:\n",
    "    print('Negative Number Entered')"
   ]
  },
  {
   "cell_type": "code",
   "execution_count": 23,
   "metadata": {},
   "outputs": [
    {
     "name": "stdout",
     "output_type": "stream",
     "text": [
      "Enter the any number0\n",
      "Zero Entered\n"
     ]
    }
   ],
   "source": [
    "number = int(input('Enter the any number'))\n",
    "if number >= 1:\n",
    "    print ('Positive Number Entered')\n",
    "elif number == 0:\n",
    "    print('Zero Entered')\n",
    "else:\n",
    "    print('Negative Number Entered')"
   ]
  },
  {
   "cell_type": "markdown",
   "metadata": {},
   "source": [
    "## 3. Divisibility Check of two numbers"
   ]
  },
  {
   "cell_type": "markdown",
   "metadata": {},
   "source": [
    "#### Write a Python program to check whether a number is completely divisible by another number. Accept two integer values form the user\n",
    "##### Program Console Sample Output 1:\n",
    "###### Enter numerator: 4\n",
    "###### Enter Denominator: 2\n",
    "##### Number 4 is Completely divisible by 2\n",
    "###### Program Console Sample Output 2:\n",
    "##### Enter numerator: 7\n",
    "\n",
    "##### Enter Denominator: 4\n",
    "###### Number 7 is not Completely divisible by 4"
   ]
  },
  {
   "cell_type": "code",
   "execution_count": 18,
   "metadata": {},
   "outputs": [
    {
     "name": "stdout",
     "output_type": "stream",
     "text": [
      "Enter numerator: 4\n",
      "next!!\n",
      "Enter Denominator: 2\n",
      "Please wait!!!\n",
      "Number  4  is Completely divisible by Number 2\n"
     ]
    }
   ],
   "source": [
    "num_1 = int(input('Enter numerator: '))\n",
    "if num_1 >= 1:\n",
    "    print (\"next!!\")\n",
    "    num_2 = int(input('Enter Denominator: '))\n",
    "    if num_2 >= 1 :\n",
    "        print (\"Please wait!!!\")\n",
    "        formula = (num_1%num_2)\n",
    "        if formula == 0:\n",
    "            print ('Number ',num_1,' is Completely divisible by Number',num_2)\n",
    "        else:\n",
    "             print('Number ',num_1,' is not Completely divisible by Number',num_2)\n",
    "else:\n",
    "    print('Only positive integers are allowed')"
   ]
  },
  {
   "cell_type": "code",
   "execution_count": 19,
   "metadata": {},
   "outputs": [
    {
     "name": "stdout",
     "output_type": "stream",
     "text": [
      "Enter numerator: 7\n",
      "next!!\n",
      "Enter Denominator: 4\n",
      "Please wait!!!\n",
      "Number  7  is not Completely divisible by Number 4\n"
     ]
    }
   ],
   "source": [
    "num_1 = int(input('Enter numerator: '))\n",
    "if num_1 >= 1:\n",
    "    print (\"next!!\")\n",
    "    num_2 = int(input('Enter Denominator: '))\n",
    "    if num_2 >= 1 :\n",
    "        print (\"Please wait!!!\")\n",
    "        formula = (num_1%num_2)\n",
    "        if formula == 0:\n",
    "            print ('Number ',num_1,' is Completely divisible by Number',num_2)\n",
    "        else:\n",
    "             print('Number ',num_1,' is not Completely divisible by Number',num_2)\n",
    "else:\n",
    "    print('Only positive integers are allowed')"
   ]
  },
  {
   "cell_type": "code",
   "execution_count": null,
   "metadata": {},
   "outputs": [],
   "source": []
  },
  {
   "cell_type": "code",
   "execution_count": null,
   "metadata": {},
   "outputs": [],
   "source": []
  },
  {
   "cell_type": "code",
   "execution_count": null,
   "metadata": {},
   "outputs": [],
   "source": []
  },
  {
   "cell_type": "code",
   "execution_count": null,
   "metadata": {},
   "outputs": [],
   "source": []
  },
  {
   "cell_type": "markdown",
   "metadata": {},
   "source": [
    "## 4. Calculate Volume of a sphere"
   ]
  },
  {
   "cell_type": "markdown",
   "metadata": {},
   "source": [
    "##### Write a Python program to get the volume of a sphere, please take the radius as input from user"
   ]
  },
  {
   "cell_type": "markdown",
   "metadata": {},
   "source": [
    "##### Program Console Output:\n",
    "##### Enter Radius of Sphere: 1\n",
    "###### Volume of the Sphere with Radius 1 is 4.18"
   ]
  },
  {
   "cell_type": "code",
   "execution_count": 15,
   "metadata": {},
   "outputs": [
    {
     "name": "stdout",
     "output_type": "stream",
     "text": [
      "Enter Radius of Sphere: 1\n",
      "Calculating....\n",
      "Volume of the Sphere with Radius  1  is 4.19\n"
     ]
    }
   ],
   "source": [
    "π = 3.1415926535898 #π=Pi press 2+2+7 with pressing alt\n",
    "r = int(input('Enter Radius of Sphere: '))\n",
    "if r >= 1 :\n",
    "    print ('Calculating....')\n",
    "    V = 4/3 * π * r**3\n",
    "    print (\"Volume of the Sphere with Radius \",r,\" is\", round(V,2))\n",
    "else:\n",
    "    print('It should 1 or greater than 1')"
   ]
  },
  {
   "cell_type": "code",
   "execution_count": null,
   "metadata": {},
   "outputs": [],
   "source": []
  },
  {
   "cell_type": "code",
   "execution_count": null,
   "metadata": {},
   "outputs": [],
   "source": []
  },
  {
   "cell_type": "code",
   "execution_count": null,
   "metadata": {},
   "outputs": [],
   "source": []
  },
  {
   "cell_type": "code",
   "execution_count": null,
   "metadata": {},
   "outputs": [],
   "source": []
  },
  {
   "cell_type": "markdown",
   "metadata": {},
   "source": [
    "## 5. Copy string n times\n",
    "#### Write a Python program to get a string which is n (non-negative integer) copies of a given string.\n",
    "##### Program Console Output:\n",
    "##### Enter String: Hi\n",
    "###### How many copies of String you need: 4\n",
    "###### 4 Copies of Hi are HiHiHiHi"
   ]
  },
  {
   "cell_type": "code",
   "execution_count": 23,
   "metadata": {},
   "outputs": [
    {
     "name": "stdout",
     "output_type": "stream",
     "text": [
      "Enter Sring: Hi\n",
      "How many copies of String you need: 4\n",
      "4 Copies of  Hi  are  HiHiHiHi\n"
     ]
    }
   ],
   "source": [
    "string = input('Enter Sring: ')\n",
    "copies = int(input('How many copies of String you need: '))\n",
    "final = string * copies\n",
    "print (copies,\"Copies of \",string,' are ',final)\n",
    "          "
   ]
  },
  {
   "cell_type": "code",
   "execution_count": null,
   "metadata": {},
   "outputs": [],
   "source": []
  },
  {
   "cell_type": "code",
   "execution_count": null,
   "metadata": {},
   "outputs": [],
   "source": []
  },
  {
   "cell_type": "code",
   "execution_count": null,
   "metadata": {},
   "outputs": [],
   "source": []
  },
  {
   "cell_type": "code",
   "execution_count": null,
   "metadata": {},
   "outputs": [],
   "source": []
  },
  {
   "cell_type": "markdown",
   "metadata": {},
   "source": [
    "## 6. Check if number is Even or Odd\n",
    "### Write a Python program to find whether a given number (accept from the user) is even or odd, print out an appropriate message to the user\n",
    "#### Program Console Output 1:\n",
    "##### Enter Number: 4\n",
    "###### 4 is Even\n",
    "#### Program Console Output 2:\n",
    "##### Enter Number: 9\n",
    "###### 9 is Odd"
   ]
  },
  {
   "cell_type": "code",
   "execution_count": 5,
   "metadata": {},
   "outputs": [
    {
     "name": "stdout",
     "output_type": "stream",
     "text": [
      "Enter the Number 4\n",
      "4  is Even\n"
     ]
    }
   ],
   "source": [
    "numbers = int(input('Enter the Number '))\n",
    "if numbers >= 1:\n",
    "    formula = numbers%2\n",
    "    if formula == 0:\n",
    "        print (numbers,' is Even')\n",
    "    else:\n",
    "        print (numbers,\" is Odd\")\n",
    "else:\n",
    "    print ('Should be greater than 1')"
   ]
  },
  {
   "cell_type": "code",
   "execution_count": 6,
   "metadata": {},
   "outputs": [
    {
     "name": "stdout",
     "output_type": "stream",
     "text": [
      "Enter the Number 9\n",
      "9  is Odd\n"
     ]
    }
   ],
   "source": [
    "numbers = int(input('Enter the Number '))\n",
    "if numbers >= 1:\n",
    "    formula = numbers%2\n",
    "    if formula == 0:\n",
    "        print (numbers,' is Even')\n",
    "    else:\n",
    "        print (numbers,\" is Odd\")\n",
    "else:\n",
    "    print ('Should be greater than 1')"
   ]
  },
  {
   "cell_type": "code",
   "execution_count": null,
   "metadata": {},
   "outputs": [],
   "source": []
  },
  {
   "cell_type": "code",
   "execution_count": null,
   "metadata": {},
   "outputs": [],
   "source": []
  },
  {
   "cell_type": "code",
   "execution_count": null,
   "metadata": {},
   "outputs": [],
   "source": []
  },
  {
   "cell_type": "markdown",
   "metadata": {},
   "source": [
    "## 7. Vowel Tester\n",
    "### Write a Python program to test whether a passed letter is a vowel or not\n",
    "#### Program Console Output 1:\n",
    "##### Enter a character: A\n",
    "###### Letter A is Vowel\n",
    "#### Program Console Output 2:\n",
    "##### Enter a character: e\n",
    "###### Letter e is Vowel\n",
    "#### Program Console Output 2:\n",
    "##### Enter a character: N\n",
    "###### Letter N is not Vowel"
   ]
  },
  {
   "cell_type": "code",
   "execution_count": 14,
   "metadata": {},
   "outputs": [
    {
     "name": "stdout",
     "output_type": "stream",
     "text": [
      "Enter a character: A\n",
      "Letter  A  is Vowel\n"
     ]
    }
   ],
   "source": [
    "letter = input ('Enter a character: ')\n",
    "if (letter==\"A\"or letter== \"a\" or letter==\"E\" or letter==\"e\" or letter==\"I\" or letter== \"i\" or letter==\"O\" or letter== \"o\" or letter==\"U\" or letter== \"u\"):\n",
    "    print(\"Letter \",letter,\" is Vowel\")\n",
    "else :\n",
    "    print (\"Letter \",letter,\" is not Vowel\")\n"
   ]
  },
  {
   "cell_type": "code",
   "execution_count": 15,
   "metadata": {},
   "outputs": [
    {
     "name": "stdout",
     "output_type": "stream",
     "text": [
      "Enter a character: e\n",
      "Letter  e  is Vowel\n"
     ]
    }
   ],
   "source": [
    "letter = input ('Enter a character: ')\n",
    "if (letter==\"A\"or letter== \"a\" or letter==\"E\" or letter==\"e\" or letter==\"I\" or letter== \"i\" or letter==\"O\" or letter== \"o\" or letter==\"U\" or letter== \"u\"):\n",
    "    print(\"Letter \",letter,\" is Vowel\")\n",
    "else :\n",
    "    print (\"Letter \",letter,\" is not Vowel\")\n"
   ]
  },
  {
   "cell_type": "code",
   "execution_count": 16,
   "metadata": {},
   "outputs": [
    {
     "name": "stdout",
     "output_type": "stream",
     "text": [
      "Enter a character: N\n",
      "Letter  N  is not Vowel\n"
     ]
    }
   ],
   "source": [
    "letter = input ('Enter a character: ')\n",
    "if (letter==\"A\"or letter== \"a\" or letter==\"E\" or letter==\"e\" or letter==\"I\" or letter== \"i\" or letter==\"O\" or letter== \"o\" or letter==\"U\" or letter== \"u\"):\n",
    "    print(\"Letter \",letter,\" is Vowel\")\n",
    "else :\n",
    "    print (\"Letter \",letter,\" is not Vowel\")\n"
   ]
  },
  {
   "cell_type": "markdown",
   "metadata": {},
   "source": [
    "## 8. Triangle area\n",
    "### Write a Python program that will accept the base and height of a triangle and compute the area\n",
    "###### Reference:\n",
    "https://www.mathgoodies.com/lessons/vol1/area_triangle"
   ]
  },
  {
   "cell_type": "code",
   "execution_count": 3,
   "metadata": {},
   "outputs": [
    {
     "name": "stdout",
     "output_type": "stream",
     "text": [
      "Enter the base of triangle 15\n",
      "Enter the height of triangle 4\n",
      "Area of Triangle is  30.0\n"
     ]
    }
   ],
   "source": [
    "b = int(input('Enter the base of triangle '))\n",
    "h = int(input('Enter the height of triangle '))\n",
    "A = 1/2*(b*h)\n",
    "if A >= 1:\n",
    "     print ('Area of Triangle is ',A)\n",
    "else:\n",
    "    print ('not allowed')\n",
    "    "
   ]
  },
  {
   "cell_type": "code",
   "execution_count": 4,
   "metadata": {},
   "outputs": [
    {
     "name": "stdout",
     "output_type": "stream",
     "text": [
      "Enter the base of triangle 6\n",
      "Enter the height of triangle 9\n",
      "Area of Triangle is  27.0\n"
     ]
    }
   ],
   "source": [
    "b = int(input('Enter the base of triangle '))\n",
    "h = int(input('Enter the height of triangle '))\n",
    "A = 1/2*(b*h)\n",
    "if A >= 1:\n",
    "     print ('Area of Triangle is ',A)\n",
    "else:\n",
    "    print ('not allowed')\n",
    "    "
   ]
  },
  {
   "cell_type": "code",
   "execution_count": null,
   "metadata": {},
   "outputs": [],
   "source": []
  },
  {
   "cell_type": "code",
   "execution_count": null,
   "metadata": {},
   "outputs": [],
   "source": []
  },
  {
   "cell_type": "markdown",
   "metadata": {},
   "source": [
    "## 9. Calculate Interest\n",
    "### Write a Python program to compute the future value of a specified principal amount, rate of interest, and a number of years\n",
    "#### Program Console Sample 1:\n",
    "##### Please enter principal amount: 10000\n",
    "###### Please Enter Rate of interest in %: 0.1\n",
    "###### Enter number of years for investment: 5\n",
    "###### After 5 years your principal amount 10000 over an interest rate of 0.1 % will be 16105.1"
   ]
  },
  {
   "cell_type": "code",
   "execution_count": 8,
   "metadata": {},
   "outputs": [
    {
     "name": "stdout",
     "output_type": "stream",
     "text": [
      "Please enter principal amount: 10000\n",
      "Please Enter Rate of interest in % : 0.1\n",
      "Enter number of years for investment: 5\n",
      "After  5  years your principal amount  10000  over an interest rate of  0.1  % will be  16105.1\n"
     ]
    }
   ],
   "source": [
    "p = int(input ('Please enter principal amount: '))\n",
    "i = float(input ('Please Enter Rate of interest in % : '))\n",
    "n = int(input ('Enter number of years for investment: '))\n",
    "f = p * (1+i)**n\n",
    "if f >= 1:\n",
    "    print ('After ',n,' years your principal amount ',p,' over an interest rate of ',i,' % will be ',round(f,1))\n",
    "else:\n",
    "    print ('not allowed')"
   ]
  },
  {
   "cell_type": "code",
   "execution_count": null,
   "metadata": {},
   "outputs": [],
   "source": []
  },
  {
   "cell_type": "code",
   "execution_count": null,
   "metadata": {},
   "outputs": [],
   "source": []
  },
  {
   "cell_type": "code",
   "execution_count": null,
   "metadata": {},
   "outputs": [],
   "source": []
  },
  {
   "cell_type": "code",
   "execution_count": null,
   "metadata": {},
   "outputs": [],
   "source": []
  },
  {
   "cell_type": "code",
   "execution_count": null,
   "metadata": {},
   "outputs": [],
   "source": []
  },
  {
   "cell_type": "markdown",
   "metadata": {},
   "source": [
    "## 10. Euclidean distance\n",
    "### write a Python program to compute the distance between the points (x1, y1) and (x2, y2).\n",
    "#### Program Console Sample 1:\n",
    "###### Enter Co-ordinate for x1: 2\n",
    "###### Enter Co-ordinate for x2: 4\n",
    "###### Enter Co-ordinate for y1: 4\n",
    "###### Enter Co-ordinate for y2: 4\n",
    "###### Distance between points (2, 4) and (4, 4) is 2"
   ]
  },
  {
   "cell_type": "markdown",
   "metadata": {},
   "source": [
    "###### Reference:\n",
    "https://en.wikipedia.org/wiki/Euclidean_distance"
   ]
  },
  {
   "cell_type": "code",
   "execution_count": 16,
   "metadata": {},
   "outputs": [
    {
     "name": "stdout",
     "output_type": "stream",
     "text": [
      "Enter Co-ordinate for x1: 2\n",
      "Enter Co-ordinate for x2: 4\n",
      "Enter Co-ordinate for y1: 4\n",
      "Enter Co-ordinate for y2: 4\n",
      "Distance between points ( 2  ,  4 ) and ( 4 ,  4 ) is  2\n"
     ]
    }
   ],
   "source": [
    "from math import sqrt\n",
    "x1 = int(input('Enter Co-ordinate for x1: '))\n",
    "x2 = int(input('Enter Co-ordinate for x2: '))\n",
    "y1 = int(input('Enter Co-ordinate for y1: '))\n",
    "y2 = int(input('Enter Co-ordinate for y2: '))\n",
    "d = sqrt(((x1 - y1)**2)-((x2 - y2)**2))\n",
    "if d >= 1 :\n",
    "    print ('Distance between points (',x1,' , ',x2,') and (',y1,', ',y2,') is ',round(d))\n",
    "else :\n",
    "    print ('not allowed')"
   ]
  },
  {
   "cell_type": "code",
   "execution_count": null,
   "metadata": {},
   "outputs": [],
   "source": []
  },
  {
   "cell_type": "code",
   "execution_count": null,
   "metadata": {},
   "outputs": [],
   "source": []
  },
  {
   "cell_type": "code",
   "execution_count": null,
   "metadata": {},
   "outputs": [],
   "source": []
  },
  {
   "cell_type": "markdown",
   "metadata": {},
   "source": [
    "## 11. Feet to Centimeter Converter\n",
    "### Write a Python program to convert height in feet to centimetres.\n",
    "##### Program Console Sample 1:\n",
    "###### Enter Height in Feet: 5\n",
    "###### There are 152.4 Cm in 5 ft\n",
    "###### Reference:\n",
    "https://www.rapidtables.com/convert/length/feet-to-cm.html"
   ]
  },
  {
   "cell_type": "code",
   "execution_count": 18,
   "metadata": {},
   "outputs": [
    {
     "name": "stdout",
     "output_type": "stream",
     "text": [
      "Enter Height in Feet: 5\n",
      "There are  152.4 Cm in  5 ft\n"
     ]
    }
   ],
   "source": [
    "ft = int(input('Enter Height in Feet: '))\n",
    "formula = ft * 30.48\n",
    "print('There are ',formula,'Cm in ',ft,'ft')\n"
   ]
  },
  {
   "cell_type": "code",
   "execution_count": null,
   "metadata": {},
   "outputs": [],
   "source": []
  },
  {
   "cell_type": "code",
   "execution_count": null,
   "metadata": {},
   "outputs": [],
   "source": []
  },
  {
   "cell_type": "code",
   "execution_count": null,
   "metadata": {},
   "outputs": [],
   "source": []
  },
  {
   "cell_type": "markdown",
   "metadata": {},
   "source": [
    "## 12. BMI Calculator\n",
    "### Write a Python program to calculate body mass index\n",
    "##### Program Console Sample 1:\n",
    "###### Enter Height in Cm: 180\n",
    "###### Enter Weight in Kg: 75\n",
    "###### Your BMI is 23.15"
   ]
  },
  {
   "cell_type": "code",
   "execution_count": 22,
   "metadata": {},
   "outputs": [
    {
     "name": "stdout",
     "output_type": "stream",
     "text": [
      "Enter height in Cm: 180\n",
      "Enter Weight in Kg: 75\n",
      "Youe BMI is  23.15\n"
     ]
    }
   ],
   "source": [
    "h_cm = int(input('Enter height in Cm: '))\n",
    "w_Kg = int (input('Enter Weight in Kg: '))\n",
    "m = h_cm / 100\n",
    "BMI = w_Kg / (m)**2\n",
    "if BMI >= 1 :\n",
    "    print(\"Youe BMI is \",round(BMI,2))\n",
    "else :\n",
    "    print('not allowed')\n"
   ]
  },
  {
   "cell_type": "code",
   "execution_count": null,
   "metadata": {},
   "outputs": [],
   "source": []
  },
  {
   "cell_type": "code",
   "execution_count": null,
   "metadata": {},
   "outputs": [],
   "source": []
  },
  {
   "cell_type": "markdown",
   "metadata": {},
   "source": [
    "## 13. Sum of n Positive Integers\n",
    "### Write a python program to sum of the first n positive integers\n",
    "#### Program Console Sample 1:\n",
    "###### Enter value of n: 5\n",
    "###### Sum of n Positive integers till 5 is 15"
   ]
  },
  {
   "cell_type": "code",
   "execution_count": 25,
   "metadata": {},
   "outputs": [
    {
     "name": "stdout",
     "output_type": "stream",
     "text": [
      "Enter value of n: 5\n",
      "Sum of n Positive integers till  5  is  15\n"
     ]
    }
   ],
   "source": [
    "n = int(input('Enter value of n: '))\n",
    "formula = (n*(n+1))/2\n",
    "print(\"Sum of n Positive integers till \",n,' is ',round(formula))\n"
   ]
  },
  {
   "cell_type": "code",
   "execution_count": null,
   "metadata": {},
   "outputs": [],
   "source": []
  },
  {
   "cell_type": "code",
   "execution_count": null,
   "metadata": {},
   "outputs": [],
   "source": []
  },
  {
   "cell_type": "markdown",
   "metadata": {},
   "source": [
    "## 14. Digits Sum of a Number\n",
    "### Write a Python program to calculate the sum of the digits in an integer\n",
    "#### Program Console Sample 1:\n",
    "##### Enter a number: 15\n",
    "###### Sum of 1 + 5 is 6\n",
    "#### Program Console Sample 2:\n",
    "##### Enter a number: 1234\n",
    "###### Sum of 1 + 2 + 3 + 4 is 10"
   ]
  },
  {
   "cell_type": "code",
   "execution_count": 4,
   "metadata": {},
   "outputs": [
    {
     "name": "stdout",
     "output_type": "stream",
     "text": [
      "Enter a number: 15\n",
      "Sum of 1 + 5 is  6\n"
     ]
    }
   ],
   "source": [
    "number = int(input('Enter a number: '))\n",
    "result = 0\n",
    "while number > 0:\n",
    "    number_1 = number % 10\n",
    "    result = result + number_1\n",
    "    number = number//10\n",
    "print(f\"Sum of 1 + 5 is \",result)\n",
    "    \n",
    "    "
   ]
  },
  {
   "cell_type": "code",
   "execution_count": 3,
   "metadata": {},
   "outputs": [
    {
     "name": "stdout",
     "output_type": "stream",
     "text": [
      "Enter a number: 1234\n",
      "Sum of 1 + 2 + 3 + 4 is  10\n"
     ]
    }
   ],
   "source": [
    "number = int(input('Enter a number: '))\n",
    "result = 0\n",
    "while number > 0:\n",
    "    number_1 = number % 10\n",
    "    result = result + number_1\n",
    "    number = number//10\n",
    "print(f\"Sum of 1 + 2 + 3 + 4 is \",result)"
   ]
  },
  {
   "cell_type": "code",
   "execution_count": null,
   "metadata": {},
   "outputs": [],
   "source": []
  },
  {
   "cell_type": "code",
   "execution_count": null,
   "metadata": {},
   "outputs": [],
   "source": []
  },
  {
   "cell_type": "code",
   "execution_count": null,
   "metadata": {},
   "outputs": [],
   "source": []
  },
  {
   "cell_type": "code",
   "execution_count": null,
   "metadata": {},
   "outputs": [],
   "source": []
  }
 ],
 "metadata": {
  "kernelspec": {
   "display_name": "Python 3",
   "language": "python",
   "name": "python3"
  },
  "language_info": {
   "codemirror_mode": {
    "name": "ipython",
    "version": 3
   },
   "file_extension": ".py",
   "mimetype": "text/x-python",
   "name": "python",
   "nbconvert_exporter": "python",
   "pygments_lexer": "ipython3",
   "version": "3.7.3"
  }
 },
 "nbformat": 4,
 "nbformat_minor": 2
}
